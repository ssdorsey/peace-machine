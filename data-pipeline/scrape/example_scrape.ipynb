{
 "cells": [
  {
   "cell_type": "markdown",
   "metadata": {},
   "source": [
    "# Guide on how to scrape news stories\n",
    "\n",
    "## Roadmap:\n",
    "  1. Get the sitemap for the URLS\n",
    "  2. Get the information we want from story\n",
    "  \n",
    "## Start with the sitemap\n",
    "\n",
    "  The sitemap is a document (or series of documents) that websites use to guide search engines around their website. They generally list every link available on their site and that's exactly what we want. \n",
    "\n",
    "  We'll use Reuters as an example.\n",
    "  \n",
    "  First we go to reuters.com/robots.txt :\n",
    "  <img src=\"reuters_robots.png\">\n",
    "  \n",
    "  There we find the link to the sitemap and go there next:\n",
    "  <img src=\"reuters_xml.PNG\">\n",
    "  \n",
    "  From here we can see that Reuters has a sitemap for every day (they have a lot of stories). NYT does monthly (example in main script) and other just count up. Let's import some packages we'll use and then build a function to collect all the links from this site. "
   ]
  },
  {
   "cell_type": "code",
   "execution_count": 91,
   "metadata": {},
   "outputs": [],
   "source": [
    "import urllib.request # what we use to download html into python\n",
    "from bs4 import BeautifulSoup # for parsing the html once we download\n",
    "from tqdm import tqdm # useful little package for creating progress bars\n",
    "from datetime import datetime, timedelta, date # for managing date formats\n",
    "import re # for regular expressions"
   ]
  },
  {
   "cell_type": "markdown",
   "metadata": {},
   "source": [
    "Below you'll find a function to use once you get to an xml file that looks like this: \n",
    "\n",
    "  <img src=\"reuters_links.PNG\">\n",
    "\n",
    "It'll pull every link on the site return a list of them. "
   ]
  },
  {
   "cell_type": "code",
   "execution_count": 92,
   "metadata": {},
   "outputs": [],
   "source": [
    "def read_sitemap(site_url, compressed=False):\n",
    "    \"\"\"\n",
    "    Pulls all the links from a .xml url\n",
    "\n",
    "    Keyword arguments:\n",
    "    site_url -- the address of the .xml file\n",
    "    compressed -- if the address is a .xml.gz\n",
    "    \"\"\"\n",
    "    # call the website\n",
    "    response = urllib.request.urlopen(site_url)\n",
    "    # open with gzip if it's compressed (like the NYT is)\n",
    "    if compressed:\n",
    "        gunzip_response = gzip.GzipFile(fileobj=response)\n",
    "        content = gunzip_response.read()\n",
    "        c_d = content.decode('utf-8')\n",
    "    else:\n",
    "        c_d = response.read()\n",
    "    # parse in BeautifulSoup\n",
    "    re_soup = BeautifulSoup(c_d, 'lxml')\n",
    "    # pull out all the urls\n",
    "    urls = [loc.string for loc in re_soup.find_all('loc')]\n",
    "    # sleep for a second so as to not accidentally DDoS\n",
    "    # sleep(1)\n",
    "    return urls"
   ]
  },
  {
   "cell_type": "markdown",
   "metadata": {},
   "source": [
    "Now we want to make a system for creating the sitemap urls that we can feed into read_sitemap. This next function is **Reuters** specific, you'll have to make your own. "
   ]
  },
  {
   "cell_type": "code",
   "execution_count": 93,
   "metadata": {},
   "outputs": [],
   "source": [
    "def reuters_gen(start, end):\n",
    "    \"\"\"\n",
    "    functions creates all the reuters sitemap links within set range\n",
    "    start / date datetime object\n",
    "    \"\"\"\n",
    "    # get the date ranges\n",
    "    times = [start]\n",
    "    # since reuters does daily sitemaps, this one steps one day at a time\n",
    "    while start <= end:\n",
    "        start += timedelta(days=1)\n",
    "        times.append(start)\n",
    "    alpha_omega = {}\n",
    "    for ii in range(0, len(times)-1):\n",
    "        alpha_omega[times[ii]] = times[ii+1]\n",
    "    # create the links\n",
    "    hold_links = [] # list to hold the urls from the loop\n",
    "    for k, v in alpha_omega.items():\n",
    "        # changes out datetime object to a string in the same format as the Reuters url\n",
    "        date1 = k.strftime(\"%Y%m%d\")\n",
    "        date2 = v.strftime(\"%Y%m%d\")\n",
    "        # Add the sitemap url to our list\n",
    "        hold_links.append(f'https://www.reuters.com/sitemap_{date1}-{date2}.xml')\n",
    "    return hold_links"
   ]
  },
  {
   "cell_type": "markdown",
   "metadata": {},
   "source": [
    "Great. We have a function to read xml files and a system for creating the xml urls. Now we combine the two to create a function that pulls the two together and saves the links to a .txt file. "
   ]
  },
  {
   "cell_type": "code",
   "execution_count": 94,
   "metadata": {},
   "outputs": [],
   "source": [
    "def reuters_collect():\n",
    "    \"\"\"\n",
    "    main function for collecting reuters links\n",
    "    \"\"\"\n",
    "    # sitemaps start in 2006\n",
    "    reu_sitemaps = reuters_gen(datetime(2006, 9, 22), datetime(2018, 12, 1))\n",
    "    # collect the data\n",
    "    for sm in tqdm(reu_sitemaps):\n",
    "        try:\n",
    "            urls = read_sitemap(sm)\n",
    "            # write to a file\n",
    "            with open('links/reuters.txt', 'a') as f:\n",
    "                for url in reu_urls:\n",
    "                    f.write(f'{url}\\n')\n",
    "        except urllib.error.HTTPError:\n",
    "            pass"
   ]
  },
  {
   "cell_type": "markdown",
   "metadata": {},
   "source": [
    "## Story features\n",
    "\n",
    "Ok now we completely change course. Up above we're just collecting links. Now we're going to go through how to process a *single* story. \n",
    "\n",
    "Here's what we want from each story:\n",
    "  1. Title\n",
    "  2. Authors\n",
    "  3. Publishing date\n",
    "  8. Publication section (ex: World)\n",
    "  4. Text\n",
    "  6. Images\n",
    "  7. Image captions\n",
    "  9. Location - but we'll come back to this later\n",
    "\n",
    "Let's use https://www.reuters.com/article/us-nigeria-election/nigerian-opposition-candidate-absent-from-election-accord-ceremony-idUSKBN1OA2H7 \n",
    "\n",
    "We'll start by pulling the html from that site to use in our example. "
   ]
  },
  {
   "cell_type": "code",
   "execution_count": 95,
   "metadata": {},
   "outputs": [],
   "source": [
    "url = 'https://www.reuters.com/article/us-nigeria-election/nigerian-opposition-candidate-absent-from-election-accord-ceremony-idUSKBN1OA2H7'\n",
    "reuters_html = urllib.request.urlopen(url)"
   ]
  },
  {
   "cell_type": "markdown",
   "metadata": {},
   "source": [
    "Now take the raw html and pull it in BeautifulSoup to parse:"
   ]
  },
  {
   "cell_type": "code",
   "execution_count": 96,
   "metadata": {},
   "outputs": [],
   "source": [
    "soup = BeautifulSoup(reuters_html)"
   ]
  },
  {
   "cell_type": "markdown",
   "metadata": {},
   "source": [
    "From here we want to pull the element tags for the things we want. Let's start with the things that are generally listed at the top of the article. \n",
    "\n",
    "I open the page, right click on the title, and select \"Inspect Element\":\n",
    "\n",
    "  <img src=\"reuters_header.PNG\">\n",
    "\n",
    "Here we see that the title, authors, date, and section are all in a tag called: `<div class=\"ArticleHeader_container\">` To make sure that I don't accidentally pull author names or dates from other stories mentioned or linked on the page I'll start by looking for those elements inside the header. "
   ]
  },
  {
   "cell_type": "code",
   "execution_count": 97,
   "metadata": {},
   "outputs": [],
   "source": [
    "header = soup.find('div', {'class':'ArticleHeader_container'})"
   ]
  },
  {
   "cell_type": "markdown",
   "metadata": {},
   "source": [
    "### Title\n",
    "\n",
    "Inside the header I note that the title is marked with the tag `<h1 class=\"ArticleHeader_headline\">`:\n",
    "\n",
    "  <img src=\"reuters_headline.PNG\">\n",
    "  \n",
    "To pull that from our soupified html I do the following:"
   ]
  },
  {
   "cell_type": "code",
   "execution_count": 98,
   "metadata": {},
   "outputs": [
    {
     "data": {
      "text/plain": [
       "'Nigerian opposition candidate absent from election accord ceremony'"
      ]
     },
     "execution_count": 98,
     "metadata": {},
     "output_type": "execute_result"
    }
   ],
   "source": [
    "header.find('h1', {'class':'ArticleHeader_headline'}).text"
   ]
  },
  {
   "cell_type": "markdown",
   "metadata": {},
   "source": [
    "### Authors\n",
    "\n",
    "And now the the authors (make sure your code can handle multiple authors). First we'll select the byline with all the authors listed then pull each individual separately. Both authors are listed under the `<div class=\"BylineBar_byline\">` tag. \n",
    "\n",
    "  <img src=\"reuters_byline.PNG\">\n",
    "\n",
    "Inside the byline the authors are identified with the `a` tag. We'll use a list comprehension to pull all individuals from the byline. \n",
    "\n",
    "  <img src=\"reuters_author.PNG\">\n"
   ]
  },
  {
   "cell_type": "code",
   "execution_count": 99,
   "metadata": {},
   "outputs": [
    {
     "data": {
      "text/plain": [
       "['Felix Onuah', 'Camillus Eboh']"
      ]
     },
     "execution_count": 99,
     "metadata": {},
     "output_type": "execute_result"
    }
   ],
   "source": [
    "# Get the whole byline\n",
    "authors = header.find('div', {'class':'BylineBar_byline'})\n",
    "# Pull out the individual authors\n",
    "[author.text for author in authors.find_all('a')]"
   ]
  },
  {
   "cell_type": "markdown",
   "metadata": {},
   "source": [
    "### Date\n",
    "Also in the header under the `<div class=\"ArticleHeader_date\">` tag:\n",
    "\n",
    "  <img src=\"reuters_date.PNG\">"
   ]
  },
  {
   "cell_type": "code",
   "execution_count": 100,
   "metadata": {},
   "outputs": [
    {
     "data": {
      "text/plain": [
       "'December 11, 2018 /  9:37 PM / Updated 5 hours ago'"
      ]
     },
     "execution_count": 100,
     "metadata": {},
     "output_type": "execute_result"
    }
   ],
   "source": [
    "header.find('div', {'class':'ArticleHeader_date'}).text"
   ]
  },
  {
   "cell_type": "markdown",
   "metadata": {},
   "source": [
    "### Section\n",
    "`<div class=\"ArticleHeader_channel\">`:\n",
    "\n",
    "  <img src=\"reuters_section.PNG\">"
   ]
  },
  {
   "cell_type": "code",
   "execution_count": 101,
   "metadata": {},
   "outputs": [
    {
     "data": {
      "text/plain": [
       "'World News'"
      ]
     },
     "execution_count": 101,
     "metadata": {},
     "output_type": "execute_result"
    }
   ],
   "source": [
    "header.find('div', {'class':'ArticleHeader_channel'}).text"
   ]
  },
  {
   "cell_type": "markdown",
   "metadata": {},
   "source": [
    "### Text \n",
    "\n",
    "Time to get the text. We find a container `<div class=\"StandardArticleBody_body\">` that holds all our text (note that we're no longer inside the header. We'll select that and then pull every paragraph from it into a list where each item is a paragraph:\n",
    "\n",
    "  <img src=\"reuters_text.PNG\">"
   ]
  },
  {
   "cell_type": "code",
   "execution_count": 102,
   "metadata": {},
   "outputs": [
    {
     "data": {
      "text/plain": [
       "['ABUJA (Reuters) - Nigeria’s main opposition candidate did not attend an event on Tuesday to sign an election agreement stating a commitment to hold a peaceful election early next year due to a “communication lapse”, his party said. ',\n",
       " 'The opposition People’s Democratic Party (PDP) confirmed in an emailed statement on Tuesday that its candidate, Atiku Abubakar, had not participated in the signing ahead of February’s election. President Muhammadu Buhari attended the event in the capital, Abuja.  ',\n",
       " 'The peace accord ceremony was held days after the PDP said authorities had frozen the bank accounts of its vice presidential candidate, Peter Obi. ',\n",
       " 'Elections to choose the leader of Africa’s most populous country - the continent’s top oil producer and by many measures its largest economy - have in the past been marred by violence, vote-rigging and voter intimidation. ',\n",
       " 'The ceremony was an attempt to mirror the signing of an acclaimed deal ahead of voting in 2015, when Buhari came to power. It was credited with helping prevent a repeat of violence in the wake of the 2011 election which Human Rights Watch said killed 800 people and displaced 65,000.  ',\n",
       " 'The accord aims to ensure that the 2019 elections are “free, fair and credible,” the document said. Signatories pledged that their campaigns would refrain from “religious incitement” and “ethnic or tribal profiling”, and that they would not incite violence, according to the document. ',\n",
       " 'The PDP said it was investigating the circumstances behind the “unfortunate communication lapse” between party officials and the National Peace Committee (NPC), the non-governmental organisation that arranged the event, which resulted in Abubakar’s absence. ',\n",
       " '“Our presidential candidate Atiku Abubakar and the party are fully committed to a peaceful electoral process and elections in 2019,” said PDP spokesman Kola Ologbondiyan in an emailed statement.  ',\n",
       " 'He said the PDP would visit the NPC office to “fulfil all necessary obligations toward the peace accord ahead of the 2019 general elections”.   ',\n",
       " 'The NPC earlier said it had sent invitations for the event to all 91 registered parties and the 73 presidential candidates. ',\n",
       " 'Independent observers for the 2015 race, the first time the agreement was signed, have since praised the accord for helping Nigeria pull off its first-ever peaceful transition from the ruling party to the opposition. Buhari defeated the incumbent Goodluck Jonathan.   ',\n",
       " 'Additional reporting by Abraham Achirga; writing by Paul Carsten; editing by Alexis Akwagyiram']"
      ]
     },
     "execution_count": 102,
     "metadata": {},
     "output_type": "execute_result"
    }
   ],
   "source": [
    "body = soup.find('div', {'class':'StandardArticleBody_body'})\n",
    "text = [paragraph.text for paragraph in body.find_all('p')]\n",
    "text"
   ]
  },
  {
   "cell_type": "markdown",
   "metadata": {},
   "source": [
    "You'll notice that this method leaves us with an additional attribution paragraph at the bottom. We don't want that but we also can't just cut the bottom paragraph because that extra bit isn't always included. We can get around that using the HTML or the text itself. The HTML method is preferred but I'll demonstrate both. \n",
    "\n",
    "Looking at the HTML, I notice that the text of the story just has plain `<p>` element tags with no other attributes:\n",
    "\n",
    "  <img src=\"reuters_plain.PNG\">\n",
    "\n",
    "While the ending paragraph has a `<div class=\"Attribution_container\">` wrapper:\n",
    "\n",
    "  <img src=\"reuters_attribution.PNG\">\n",
    "\n",
    "We can use that to identify the text we want. \n",
    "\n",
    "In the list comprehension above we pulled the text from the BeautifulSoup search (`paragraph.text`), now we'll keep the BeautifulSoup element tags. "
   ]
  },
  {
   "cell_type": "code",
   "execution_count": 103,
   "metadata": {},
   "outputs": [
    {
     "name": "stdout",
     "output_type": "stream",
     "text": [
      "Additional reporting by Abraham Achirga; writing by Paul Carsten; editing by Alexis Akwagyiram\n",
      "<class 'str'>\n",
      "<p class=\"Attribution_content\">Additional reporting by Abraham Achirga; writing by Paul Carsten; editing by Alexis Akwagyiram</p>\n",
      "<class 'bs4.element.Tag'>\n"
     ]
    }
   ],
   "source": [
    "tags = [paragraph for paragraph in body.find_all('p')]\n",
    "\n",
    "# see the difference:\n",
    "print(text[-1])\n",
    "print(type(text[-1]))\n",
    "\n",
    "print(tags[-1])\n",
    "print(type(tags[-1]))"
   ]
  },
  {
   "cell_type": "markdown",
   "metadata": {},
   "source": [
    "If every tag had a class we could filter them using `['class']`, but since only the things we don't want have a class we'll do the following:"
   ]
  },
  {
   "cell_type": "code",
   "execution_count": 104,
   "metadata": {},
   "outputs": [
    {
     "data": {
      "text/plain": [
       "['ABUJA (Reuters) - Nigeria’s main opposition candidate did not attend an event on Tuesday to sign an election agreement stating a commitment to hold a peaceful election early next year due to a “communication lapse”, his party said.',\n",
       " 'The opposition People’s Democratic Party (PDP) confirmed in an emailed statement on Tuesday that its candidate, Atiku Abubakar, had not participated in the signing ahead of February’s election. President Muhammadu Buhari attended the event in the capital, Abuja.',\n",
       " 'The peace accord ceremony was held days after the PDP said authorities had frozen the bank accounts of its vice presidential candidate, Peter Obi.',\n",
       " 'Elections to choose the leader of Africa’s most populous country - the continent’s top oil producer and by many measures its largest economy - have in the past been marred by violence, vote-rigging and voter intimidation.',\n",
       " 'The ceremony was an attempt to mirror the signing of an acclaimed deal ahead of voting in 2015, when Buhari came to power. It was credited with helping prevent a repeat of violence in the wake of the 2011 election which Human Rights Watch said killed 800 people and displaced 65,000.',\n",
       " 'The accord aims to ensure that the 2019 elections are “free, fair and credible,” the document said. Signatories pledged that their campaigns would refrain from “religious incitement” and “ethnic or tribal profiling”, and that they would not incite violence, according to the document.',\n",
       " 'The PDP said it was investigating the circumstances behind the “unfortunate communication lapse” between party officials and the National Peace Committee (NPC), the non-governmental organisation that arranged the event, which resulted in Abubakar’s absence.',\n",
       " '“Our presidential candidate Atiku Abubakar and the party are fully committed to a peaceful electoral process and elections in 2019,” said PDP spokesman Kola Ologbondiyan in an emailed statement.',\n",
       " 'He said the PDP would visit the NPC office to “fulfil all necessary obligations toward the peace accord ahead of the 2019 general elections”.',\n",
       " 'The NPC earlier said it had sent invitations for the event to all 91 registered parties and the 73 presidential candidates.',\n",
       " 'Independent observers for the 2015 race, the first time the agreement was signed, have since praised the accord for helping Nigeria pull off its first-ever peaceful transition from the ruling party to the opposition. Buhari defeated the incumbent Goodluck Jonathan.']"
      ]
     },
     "execution_count": 104,
     "metadata": {},
     "output_type": "execute_result"
    }
   ],
   "source": [
    "text_better = [paragraph.text.strip() for paragraph in body.find_all('p') if not paragraph.has_attr('class')]\n",
    "text_better"
   ]
  },
  {
   "cell_type": "markdown",
   "metadata": {},
   "source": [
    "### Images \n",
    "\n",
    "A page could have a lot of extraneous images so we need to make sure to only look inside our article. With Reuters, this is possible with the same `body` tag we used for the text above but this will not always be the case, especially for sites that feature photos above the story. \n",
    "\n",
    "We'll start with the image urls, then get the caption. \n",
    "\n",
    "We see that the image and caption are available under `<div class=\"Image_container\">`:\n",
    "\n",
    "  <img src=\"reuters_imagecontainer.PNG\">\n",
    "  \n",
    "Inside the image containers we find `<div class=\"LazyImage_image LazyImage_cover LazyImage_fallback\">`. Be careful for very small versions of images that are often used as thumbnails.\n",
    "\n",
    "  <img src=\"reuters_image.PNG\">\n",
    "    \n",
    "And the caption can be found under `<div class=\"Image_caption\">`:\n",
    "\n",
    "  <img src=\"reuters_caption.PNG\">\n",
    "\n",
    "There's only one is this story but we need to build to code to capture multiple image urls if they exist. \n",
    "\n",
    "\n"
   ]
  },
  {
   "cell_type": "code",
   "execution_count": 105,
   "metadata": {},
   "outputs": [],
   "source": [
    "# image containers first\n",
    "image_containers = body.find_all('div', {'class':'Image_container'})\n",
    "# then I get the images, note that I use regular expressions to match here\n",
    "# the first part. Not necessary but useful when tags are mostly consistent\n",
    "# with slight variations\n",
    "images = [image.find('div', {'class':re.compile('LazyImage_image')}) for \n",
    "          image in image_containers]"
   ]
  },
  {
   "cell_type": "markdown",
   "metadata": {},
   "source": [
    "Looks like the actual url we want is buried inside some parentheses (this usually won't be the case). Either way, we'll use a regular expression to get it out. "
   ]
  },
  {
   "cell_type": "code",
   "execution_count": 106,
   "metadata": {},
   "outputs": [
    {
     "data": {
      "text/plain": [
       "['//s4.reutersmedia.net/resources/r/?m=02&d=20181211&t=2&i=1334162460&r=LYNXMPEEBA1LR&w=20']"
      ]
     },
     "execution_count": 106,
     "metadata": {},
     "output_type": "execute_result"
    }
   ],
   "source": [
    "[re.search(r'\\((.*?)\\)', image['style']).group(1) for image in images]"
   ]
  },
  {
   "cell_type": "code",
   "execution_count": 107,
   "metadata": {},
   "outputs": [
    {
     "data": {
      "text/plain": [
       "[\"FILE PHOTO: Atiku Abubakar, a former vice president, attends the national convention of Nigeria's opposition People's Democratic Party (PDP), in the southern city of Port Harcourt in the Niger Delta, Nigeria October 6, 2018. REUTERS/Tife Owolabi/File Photo\"]"
      ]
     },
     "execution_count": 107,
     "metadata": {},
     "output_type": "execute_result"
    }
   ],
   "source": [
    "# captions\n",
    "[image.find('div', {'class':'Image_caption'}).text for image in image_containers]"
   ]
  },
  {
   "cell_type": "markdown",
   "metadata": {},
   "source": [
    "## Put it all together"
   ]
  },
  {
   "cell_type": "code",
   "execution_count": 108,
   "metadata": {},
   "outputs": [],
   "source": [
    "def reuters_story(html):\n",
    "    \"\"\"\n",
    "    Function to pull the information we want from Retuers stories\n",
    "    \"\"\"\n",
    "    # create a dictionary to hold everything in\n",
    "    hold_dict = {}\n",
    "    # first turn the html into BeautifulSoup\n",
    "    soup = BeautifulSoup(html, 'lxml')\n",
    "    # pull the data I want\n",
    "    # all the initial data I want is in the header so I restrict my search\n",
    "        # so as to not accidentially pull in other  data\n",
    "    header = header = soup.find('div', {'class':'ArticleHeader_container'})\n",
    "    # title\n",
    "    hold_dict['title'] = header.find('h1', {'class':'ArticleHeader_headline'}).text\n",
    "    # authors\n",
    "    authors = header.find('div', {'class':'BylineBar_byline'})\n",
    "    hold_dict['authors'] = [author.text for author in authors.find_all('a')]\n",
    "    # date\n",
    "    hold_dict['date'] = header.find('div', {'class':'ArticleHeader_date'}).text\n",
    "    # section\n",
    "    hold_dict['section'] = header.find('div', {'class':'ArticleHeader_channel'}).text\n",
    "    # text\n",
    "    body = soup.find('div', {'class':'StandardArticleBody_body'})\n",
    "    hold_dict['text'] = [paragraph.text.strip() for paragraph in body.find_all('p')\n",
    "                         if not paragraph.has_attr('class')]\n",
    "    # images (in order)\n",
    "    image_containers = body.find_all('div', {'class':'Image_container'})\n",
    "    images = [image.find('div', {'class':re.compile('LazyImage_image')}) for \n",
    "              image in image_containers]\n",
    "    hold_dict['image_urls'] = [re.search(r'\\((.*?)\\)', image['style']).group(1) for\n",
    "                               image in images]\n",
    "    # captions (in order)\n",
    "    hold_dict['image_captions'] = [image.find('div', {'class':'Image_caption'}).text\n",
    "                                   for image in image_containers]\n",
    "    # return\n",
    "    return hold_dict"
   ]
  },
  {
   "cell_type": "markdown",
   "metadata": {},
   "source": [
    "Let's try it out now"
   ]
  },
  {
   "cell_type": "code",
   "execution_count": 109,
   "metadata": {},
   "outputs": [],
   "source": [
    "url = 'https://www.reuters.com/article/uk-nigeria-election/nigerian-opposition-candidate-absent-from-election-accord-ceremony-idUSKBN1OA2HU'\n",
    "html = urllib.request.urlopen(url).read()\n",
    "reuters = reuters_story(html)"
   ]
  },
  {
   "cell_type": "markdown",
   "metadata": {},
   "source": [
    "Let's see how it worked"
   ]
  },
  {
   "cell_type": "code",
   "execution_count": 110,
   "metadata": {},
   "outputs": [
    {
     "data": {
      "text/plain": [
       "['Felix Onuah', 'Camillus Eboh']"
      ]
     },
     "execution_count": 110,
     "metadata": {},
     "output_type": "execute_result"
    }
   ],
   "source": [
    "reuters['authors']"
   ]
  },
  {
   "cell_type": "code",
   "execution_count": 111,
   "metadata": {},
   "outputs": [
    {
     "data": {
      "text/plain": [
       "'Nigerian opposition candidate absent from election accord ceremony'"
      ]
     },
     "execution_count": 111,
     "metadata": {},
     "output_type": "execute_result"
    }
   ],
   "source": [
    "reuters['title']"
   ]
  },
  {
   "cell_type": "code",
   "execution_count": 112,
   "metadata": {},
   "outputs": [
    {
     "data": {
      "text/plain": [
       "'December 11, 2018 /  9:37 PM / Updated 5 hours ago'"
      ]
     },
     "execution_count": 112,
     "metadata": {},
     "output_type": "execute_result"
    }
   ],
   "source": [
    "reuters['date']"
   ]
  },
  {
   "cell_type": "code",
   "execution_count": 113,
   "metadata": {},
   "outputs": [
    {
     "data": {
      "text/plain": [
       "'World News'"
      ]
     },
     "execution_count": 113,
     "metadata": {},
     "output_type": "execute_result"
    }
   ],
   "source": [
    "reuters['section']"
   ]
  },
  {
   "cell_type": "code",
   "execution_count": 114,
   "metadata": {},
   "outputs": [
    {
     "data": {
      "text/plain": [
       "['ABUJA (Reuters) - Nigeria’s main opposition candidate did not attend an event on Tuesday to sign an election agreement stating a commitment to hold a peaceful election early next year due to a “communication lapse”, his party said.',\n",
       " 'The opposition People’s Democratic Party (PDP) confirmed in an emailed statement on Tuesday that its candidate, Atiku Abubakar, had not participated in the signing ahead of February’s election. President Muhammadu Buhari attended the event in the capital, Abuja.',\n",
       " 'The peace accord ceremony was held days after the PDP said authorities had frozen the bank accounts of its vice presidential candidate, Peter Obi.',\n",
       " 'Elections to choose the leader of Africa’s most populous country - the continent’s top oil producer and by many measures its largest economy - have in the past been marred by violence, vote-rigging and voter intimidation.',\n",
       " 'The ceremony was an attempt to mirror the signing of an acclaimed deal ahead of voting in 2015, when Buhari came to power. It was credited with helping prevent a repeat of violence in the wake of the 2011 election which Human Rights Watch said killed 800 people and displaced 65,000.',\n",
       " 'The accord aims to ensure that the 2019 elections are “free, fair and credible,” the document said. Signatories pledged that their campaigns would refrain from “religious incitement” and “ethnic or tribal profiling”, and that they would not incite violence, according to the document.',\n",
       " 'The PDP said it was investigating the circumstances behind the “unfortunate communication lapse” between party officials and the National Peace Committee (NPC), the non-governmental organisation that arranged the event, which resulted in Abubakar’s absence.',\n",
       " '“Our presidential candidate Atiku Abubakar and the party are fully committed to a peaceful electoral process and elections in 2019,” said PDP spokesman Kola Ologbondiyan in an emailed statement.',\n",
       " 'He said the PDP would visit the NPC office to “fulfil all necessary obligations toward the peace accord ahead of the 2019 general elections”.',\n",
       " 'The NPC earlier said it had sent invitations for the event to all 91 registered parties and the 73 presidential candidates.',\n",
       " 'Independent observers for the 2015 race, the first time the agreement was signed, have since praised the accord for helping Nigeria pull off its first-ever peaceful transition from the ruling party to the opposition. Buhari defeated the incumbent Goodluck Jonathan.']"
      ]
     },
     "execution_count": 114,
     "metadata": {},
     "output_type": "execute_result"
    }
   ],
   "source": [
    "reuters['text']"
   ]
  },
  {
   "cell_type": "code",
   "execution_count": 115,
   "metadata": {},
   "outputs": [
    {
     "data": {
      "text/plain": [
       "['//s4.reutersmedia.net/resources/r/?m=02&d=20181211&t=2&i=1334162460&r=LYNXMPEEBA1LR&w=20']"
      ]
     },
     "execution_count": 115,
     "metadata": {},
     "output_type": "execute_result"
    }
   ],
   "source": [
    "reuters['image_urls']"
   ]
  },
  {
   "cell_type": "code",
   "execution_count": 116,
   "metadata": {},
   "outputs": [
    {
     "data": {
      "text/plain": [
       "[\"FILE PHOTO: Atiku Abubakar, a former vice president, attends the national convention of Nigeria's opposition People's Democratic Party (PDP), in the southern city of Port Harcourt in the Niger Delta, Nigeria October 6, 2018. REUTERS/Tife Owolabi/File Photo\"]"
      ]
     },
     "execution_count": 116,
     "metadata": {},
     "output_type": "execute_result"
    }
   ],
   "source": [
    "reuters['image_captions']"
   ]
  }
 ],
 "metadata": {
  "kernelspec": {
   "display_name": "Python 3",
   "language": "python",
   "name": "python3"
  },
  "language_info": {
   "codemirror_mode": {
    "name": "ipython",
    "version": 3
   },
   "file_extension": ".py",
   "mimetype": "text/x-python",
   "name": "python",
   "nbconvert_exporter": "python",
   "pygments_lexer": "ipython3",
   "version": "3.7.0"
  }
 },
 "nbformat": 4,
 "nbformat_minor": 2
}
